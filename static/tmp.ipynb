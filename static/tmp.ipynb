{
 "cells": [
  {
   "cell_type": "code",
   "execution_count": 1,
   "metadata": {},
   "outputs": [],
   "source": [
    "with open(\"./tmp.txt\", \"r\") as f:\n",
    "    data = f.read()"
   ]
  },
  {
   "cell_type": "code",
   "execution_count": 2,
   "metadata": {},
   "outputs": [],
   "source": [
    "lines = data.split(\"\\n\")"
   ]
  },
  {
   "cell_type": "code",
   "execution_count": 6,
   "metadata": {},
   "outputs": [],
   "source": [
    "out_lines = []\n",
    "curr_line = \"\"\n",
    "for idx, line in enumerate(lines):\n",
    "    if idx <= 13:\n",
    "        continue\n",
    "    if line == \"Planetarium Hamburg\":\n",
    "        out_lines.append(curr_line)\n",
    "        curr_line = \"\"\n",
    "        continue\n",
    "    curr_line += line + \";\"\n",
    "    "
   ]
  },
  {
   "cell_type": "code",
   "execution_count": 16,
   "metadata": {},
   "outputs": [
    {
     "name": "stdout",
     "output_type": "stream",
     "text": [
      "\"2024-02-10 17:30\",\n",
      "\"2024-02-16 12:30\",\n",
      "\"2024-02-23 12:30\",\n",
      "\"2024-02-24 15:15\",\n",
      "\"2024-02-27 12:30\",\n",
      "\"2024-02-29 11:30\",\n",
      "\"2024-03-02 14:00\",\n",
      "\"2024-03-03 14:30\",\n",
      "\"2024-03-07 10:00\",\n",
      "\"2024-03-08 12:30\",\n",
      "\"2024-03-10 16:30\",\n",
      "\"2024-03-14 12:30\",\n",
      "\"2024-03-16 14:00\",\n",
      "\"2024-03-21 15:00\",\n",
      "\"2024-03-25 11:00\",\n",
      "\"2024-03-27 17:15\",\n",
      "\"2024-03-29 12:15\",\n",
      "\"2024-03-30 17:30\",\n",
      "\"2024-03-31 14:30\",\n",
      "\"2024-04-01 12:30\",\n",
      "\"2024-04-05 12:30\",\n",
      "\"2024-04-11 20:00\",\n",
      "\"2024-04-12 17:30\",\n",
      "\"2024-04-16 15:00\",\n",
      "\"2024-04-17 12:30\",\n",
      "\"2024-04-20 15:30\",\n",
      "\"2024-04-26 17:45\",\n",
      "\"2024-05-01 13:45\",\n",
      "\"2024-05-03 17:15\",\n",
      "\"2024-05-04 15:15\",\n",
      "\"2024-05-09 16:00\",\n",
      "\"2024-05-10 17:00\",\n",
      "\"2024-05-11 16:30\",\n",
      "\"2024-05-12 16:15\",\n",
      "\"2024-05-14 17:15\",\n",
      "\"2024-05-16 10:00\",\n",
      "\"2024-05-17 12:30\",\n",
      "\"2024-05-20 12:30\",\n",
      "\"2024-05-21 17:15\",\n",
      "\"2024-05-23 17:30\",\n",
      "\"2024-05-25 14:00\",\n",
      "\"2024-05-28 12:30\",\n"
     ]
    }
   ],
   "source": [
    "for line in out_lines:\n",
    "    vals = line.split(\";\")\n",
    "    if len(vals) == 5:\n",
    "        # remove first elem\n",
    "        vals = vals[1:]\n",
    "    \n",
    "    name, date, time, _ = vals\n",
    "    \n",
    "    #date: Sa. 10.02.2024\n",
    "    # to:\n",
    "    # 2024-02-10\n",
    "    date = date.split(\" \")\n",
    "    date = date[1].split(\".\")\n",
    "    date = f\"{date[2]}-{date[1]}-{date[0]}\"\n",
    "    \n",
    "    date_time = f\"{date} {time}\"\n",
    "    print('\"', date_time, '\",', sep=\"\")"
   ]
  }
 ],
 "metadata": {
  "kernelspec": {
   "display_name": "Python 3",
   "language": "python",
   "name": "python3"
  },
  "language_info": {
   "codemirror_mode": {
    "name": "ipython",
    "version": 3
   },
   "file_extension": ".py",
   "mimetype": "text/x-python",
   "name": "python",
   "nbconvert_exporter": "python",
   "pygments_lexer": "ipython3",
   "version": "3.11.6"
  }
 },
 "nbformat": 4,
 "nbformat_minor": 2
}
