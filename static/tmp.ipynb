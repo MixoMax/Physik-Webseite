{
 "cells": [
  {
   "cell_type": "code",
   "execution_count": 45,
   "metadata": {},
   "outputs": [],
   "source": [
    "with open(\"./tmp.txt\", \"r\") as f:\n",
    "    data = f.read()"
   ]
  },
  {
   "cell_type": "code",
   "execution_count": 46,
   "metadata": {},
   "outputs": [],
   "source": [
    "lines = data.split(\"\\n\")"
   ]
  },
  {
   "cell_type": "code",
   "execution_count": 47,
   "metadata": {},
   "outputs": [],
   "source": [
    "out_lines = []\n",
    "curr_line = \"\"\n",
    "for idx, line in enumerate(lines):\n",
    "    if idx <= 13:\n",
    "        continue\n",
    "    if line == \"Planetarium Hamburg\":\n",
    "        out_lines.append(curr_line)\n",
    "        curr_line = \"\"\n",
    "        continue\n",
    "    curr_line += line + \";\""
   ]
  },
  {
   "cell_type": "code",
   "execution_count": 48,
   "metadata": {},
   "outputs": [
    {
     "name": "stdout",
     "output_type": "stream",
     "text": [
      "\"2024-02-11 14:30\",\n",
      "\"2024-02-18 11:00\",\n",
      "\"2024-02-25 14:45\",\n",
      "\"2024-03-03 11:00\",\n",
      "\"2024-03-10 15:30\",\n",
      "\"2024-03-16 13:00\",\n",
      "\"2024-03-18 11:00\",\n",
      "\"2024-03-31 11:00\",\n",
      "\"2024-04-13 13:00\",\n",
      "\"2024-04-21 11:00\",\n",
      "\"2024-04-28 12:30\",\n",
      "\"2024-05-04 13:00\",\n",
      "\"2024-05-11 13:00\",\n",
      "\"2024-05-26 11:00\",\n"
     ]
    }
   ],
   "source": [
    "for line in out_lines:\n",
    "    vals = line.split(\";\")\n",
    "    if len(vals) == 5:\n",
    "        # remove first elem\n",
    "        vals = vals[1:]\n",
    "    \n",
    "    name, date, time, _ = vals\n",
    "    \n",
    "    #date: Sa. 10.02.2024\n",
    "    # to:\n",
    "    # 2024-02-10\n",
    "    date = date.split(\" \")\n",
    "    date = date[1].split(\".\")\n",
    "    date = f\"{date[2]}-{date[1]}-{date[0]}\"\n",
    "    \n",
    "    date_time = f\"{date} {time}\"\n",
    "    print('\"', date_time, '\",', sep=\"\")"
   ]
  }
 ],
 "metadata": {
  "kernelspec": {
   "display_name": "Python 3",
   "language": "python",
   "name": "python3"
  },
  "language_info": {
   "codemirror_mode": {
    "name": "ipython",
    "version": 3
   },
   "file_extension": ".py",
   "mimetype": "text/x-python",
   "name": "python",
   "nbconvert_exporter": "python",
   "pygments_lexer": "ipython3",
   "version": "3.11.6"
  }
 },
 "nbformat": 4,
 "nbformat_minor": 2
}
