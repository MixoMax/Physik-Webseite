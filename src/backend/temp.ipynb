{
 "cells": [
  {
   "cell_type": "code",
   "execution_count": 4,
   "metadata": {},
   "outputs": [],
   "source": [
    "import requests\n",
    "from bs4 import BeautifulSoup\n",
    "\n",
    "requests.packages.urllib3.util.connection.HAS_IPV6 = False"
   ]
  },
  {
   "cell_type": "code",
   "execution_count": 34,
   "metadata": {},
   "outputs": [
    {
     "name": "stdout",
     "output_type": "stream",
     "text": [
      "utf-8\n",
      "UTF-8\n"
     ]
    }
   ],
   "source": [
    "import sys\n",
    "import locale\n",
    "\n",
    "print(sys.getfilesystemencoding())\n",
    "print(locale.getpreferredencoding())"
   ]
  },
  {
   "cell_type": "code",
   "execution_count": 28,
   "metadata": {},
   "outputs": [],
   "source": [
    "headers = {\n",
    "    \"Accept-Language\": \"en-US,de;q=0.5\",\n",
    "    \"Cache-Control\": \"no-cache\",\n",
    "    \"Connection\": \"keep-alive\",\n",
    "    \"Cookie\": \"JSESSIONID=EC04190F82889D8C9BAC752AF8838646; _abck=0A9A0316B6A3A24D1238C1B14D26C517~-1~YAAQJXvdWGMRP6SNAQAAwEXDsAsN3iftN8ALI7qy1QjQPqObR2DQkeyB8CV6tmfySmcD7MLQ8p1q9F2c3tiQoGufNswA3Ju5L7+UeHx6Wmnn0AwEoA7BGn+rr3GG34duNTwQW8EoF4HsIIeZ18UAFz/BhyecMVKiFta+y0QnyjNNNGE2RTjNbr5NcGPk9myqCFtFRe5Iih+rIVvFiwFwemB/+sYcaXkxST88+KZYjKtdI23ikS1L8/sLX9rmAH4u13fe6FJJtp3z0YRDp74WPYjXIiY4zmGbSbZHxiK6P48tTW8KOB7WwUGpbcO/iP7CVbFdfcIgsj60bS2pT1IBQ0XEb9VpZKjc0t61I9q3A/nODtJ23rOfp7kfW4gh+oMNh+XLlmzuiCKhHGQYUYGSuWLt~-1~-1~1708071203…qBOZJZXxS/r9NLJqRbZiqXnDJOmz7W/z1WYZW9YBPtOUdDUfvbmQ5JRvDNk7gMGsUExEYSGq5e1QXk5wxU+maWy7E9UpFjOJ6Mm0Q=~1; bm_mi=5A6D3F02F44132787908D05660DF17C7~YAAQJXvdWGsGP6SNAQAAOxPCsBat+dfY4XhYpEkjiISYNtfrgbflx6plwX5cwY9SGPPufuQh2VEeYBSXtFkiYBLq7SUnL3z0gnRMQzMxjIQAK1GvYLsHpS0/2EOvegIaDgg5CWzEvhoIGx/cJcIXCpzRrkmfKhE3sCT/6RH72Ri0CDtRFOZ1/BxSIsJhXQexw04R3WqLNX/pSI4XvWBpCjLrPrXPLHBnJLfT4vajkGKcibVn8081rtiIa/g3xX3oB4pk7G8TxdgwV19QQJftUc0nWSA7CyODsz/iS0QvH6unX2UxQSObZnE4jHzS4+fvQ/elnzohb+7ZKTkSGQW6ZlhuA7dCW2z9WyFEkmqYX6mF~1\",\n",
    "    \"Host\": \"planetarium-hamburg.eventim-inhouse.de\",\n",
    "    \"Pragma\": \"no-cache\",\n",
    "    \"Referer\": \"https://planetarium-hamburg.eventim-inhouse.de/webshop/\",\n",
    "    \"Sec-Fetch-Dest\": \"document\",\n",
    "    \"Sec-Fetch-Mode\": \"navigate\",\n",
    "    \"Sec-Fetch-Site\": \"same-origin\",\n",
    "    \"Upgrade-Insecure-Requests\": \"1\",\n",
    "    \"User-Agent\": \"Mozilla/5.0 (X11; Ubuntu; Linux x86_64; rv:122.0) Gecko/20100101 Firefox/122.0\",\n",
    "    # tell server to use utf-8\n",
    "    \"Accept-Charset\": \"utf-8\"\n",
    "    }\n",
    "\n",
    "cookies = {\n",
    "    \"_abck\": \"0A9A0316B6A3A24D1238C1B14D26C517~-1~YAAQJXvdWGMRP6SNAQAAwEXDsAsN3iftN8ALI7qy1QjQPqObR2DQkeyB8CV6tmfySmcD7MLQ8p1q9F2c3tiQoGufNswA3Ju5L7+UeHx6Wmnn0AwEoA7BGn+rr3GG34duNTwQW8EoF4HsIIeZ18UAFz/BhyecMVKiFta+y0QnyjNNNGE2RTjNbr5NcGPk9myqCFtFRe5Iih+rIVvFiwFwemB/+sYcaXkxST88+KZYjKtdI23ikS1L8/sLX9rmAH4u13fe6FJJtp3z0YRDp74WPYjXIiY4zmGbSbZHxiK6P48tTW8KOB7WwUGpbcO/iP7CVbFdfcIgsj60bS2pT1IBQ0XEb9VpZKjc0t61I9q3A/nODtJ23rOfp7kfW4gh+oMNh+XLlmzuiCKhHGQYUYGSuWLt~-1~-1~1708071203\",\n",
    "    \"ak_bmsc\": \"D924247C76E45C4105AD2750BE06B7D5~000000000000000000000000000000~YAAQJXvdWBkGP6SNAQAANgvCsBa17Ah5rIiQTv8BXQYptq9xT32TJ5gFLpMaBoQemUSg0Y9j8Oym2wPBIawnNgiDUcoBPzswQD/2Rw1GKH9ghN0Ute7TUOXeZnE9Q5wkzGML5Wh6vl6jsD9SUO9ZmiSA+v11kWUDomuRYRiQIK95oESGXuU4AtSXygqsEviKgbUepF/dSELQiDWZEBlaVlMhiKaWRP4gBMPGLdaO/kETV6AvmOPGdXtqmChe5r92kuPGrcL0Adz/7cr2LwCWomzxK/QVF6aUo7eSOyx0fUh4aYWwbU1ceiIFMrF9rhXsFBNTkrhA2XxfAMxF520n6xLXKGQ7OQfGeYg9T4ttyVLrFmkVohwrFBdPpHouxGR/jSWWM1iQJhdFiwo3RH1zB6c=\",\n",
    "    \"BIGipServer~ASP~sg_inhouse_planetarium-hamburg\": \"rd5o00000000000000000000ffff0ac05165o10063\",\n",
    "    \"bm_mi\": \"5A6D3F02F44132787908D05660DF17C7~YAAQJXvdWGsGP6SNAQAAOxPCsBat+dfY4XhYpEkjiISYNtfrgbflx6plwX5cwY9SGPPufuQh2VEeYBSXtFkiYBLq7SUnL3z0gnRMQzMxjIQAK1GvYLsHpS0/2EOvegIaDgg5CWzEvhoIGx/cJcIXCpzRrkmfKhE3sCT/6RH72Ri0CDtRFOZ1/BxSIsJhXQexw04R3WqLNX/pSI4XvWBpCjLrPrXPLHBnJLfT4vajkGKcibVn8081rtiIa/g3xX3oB4pk7G8TxdgwV19QQJftUc0nWSA7CyODsz/iS0QvH6unX2UxQSObZnE4jHzS4+fvQ/elnzohb+7ZKTkSGQW6ZlhuA7dCW2z9WyFEkmqYX6mF~1\",\n",
    "    \"bm_sv\": \"46A9F136F115FC7F326AFC6B0CC167BA~YAAQJXvdWGwGP6SNAQAAOxPCsBYnfePrc/t4W7W+lhGubSn3DU9GO0BOM9u9z4l2nCnt/0PUzBkWtaJclj2g0WAAXyrgSZR3L6YWg7rBh4vI0wEIE/Iy9cagyfrAKtshPlMMCintOBiJbS2IndubBq3+imnvsKnMM56oR7qBOZJZXxS/r9NLJqRbZiqXnDJOmz7W/z1WYZW9YBPtOUdDUfvbmQ5JRvDNk7gMGsUExEYSGq5e1QXk5wxU+maWy7E9UpFjOJ6Mm0Q=~1\",\n",
    "    \"bm_sz\": \"EEAC53921DF6096419FA3722D33F614C~YAAQJXvdWG0GP6SNAQAAOxPCsBaVQ2Ry7JJmxAsfrSpVafjRaR9o/wSTbZUEMXcYKf0DQvX/p1Npx+fU8WlE+uoWTYzVWMS1KvNTZRmPhjj8Bk9FZnrYfYjwnTaufm+IxqKWCbKNizqYbBFsPIEXqQ/24lzCdXdSex0toD1wOcolwhUk/F7I8si+pFbbUju1yUEsi4mp7tGW0/gbYtBwMjf23pmnQmDk3+/grXVcErdk4qzdWEPEOwPpm/H+lPAEnPxgXFyHWydEDuGp/60KAGscEDnYLSneNGwygc3MznbPUYt9Hde57iielzZLbe41Zoagx1xSLZLRY722QiW47iIcUTmtEYinGQ7ev+wxNTeB1MWhhkk6bIlPxRvqJmzDXxPvq+9KThhYRUs=~4474166~3553328\",\n",
    "    \"JSESSIONID\": \"EC04190F82889D8C9BAC752AF8838646\"\n",
    "}"
   ]
  },
  {
   "cell_type": "code",
   "execution_count": 58,
   "metadata": {},
   "outputs": [
    {
     "name": "stdout",
     "output_type": "stream",
     "text": [
      "Status code:  200\n",
      "{'23422': {'title': 'Die Chemie des Lebens 3D – Das Unsichtbare in uns', 'date': '16.02.2024', 'weekday': '\\tFri.'}, '23272': {'title': 'Polaris und das Rätsel der Polarnacht', 'date': '16.02.2024', 'weekday': '\\tFri.'}, '23312': {'title': 'Space Tour 3D', 'date': '16.02.2024', 'weekday': '\\tFri.'}, '22924': {'title': 'Aurora - Im Reich des Polarlichts', 'date': '16.02.2024', 'weekday': '\\tFri.'}, '23407': {'title': 'Wir sind Sterne 3D', 'date': '16.02.2024', 'weekday': '\\tFri.'}, '23032': {'title': 'Der Himmel über Hamburg', 'date': '16.02.2024', 'weekday': '\\tFri.'}, '23265': {'title': 'Planeten - Expedition durchs Sonnensystem', 'date': '16.02.2024', 'weekday': '\\tFri.'}, '23366': {'title': 'The Dark Side of the Moon Planetarium Experience', 'date': '16.02.2024', 'weekday': '\\tFri.'}, '23436': {'title': 'Cosmic Jazz', 'date': '16.02.2024', 'weekday': '\\tFri.'}, '23239': {'title': 'Planeten - Expedition durchs Sonnensystem', 'date': '17.02.2024', 'weekday': '\\tSat.'}, '23140': {'title': 'Die Legende des Zauberriffs 3D', 'date': '17.02.2024', 'weekday': '\\tSat.'}, '23186': {'title': 'Im Nachtflug durch die Galaxis', 'date': '17.02.2024', 'weekday': '\\tSat.'}, '23449': {'title': 'Earth Choir Kids', 'date': '17.02.2024', 'weekday': '\\tSat.'}, '23367': {'title': 'The Dark Side of the Moon Planetarium Experience', 'date': '17.02.2024', 'weekday': '\\tSat.'}, '23161': {'title': 'Flow - Visions Of Time', 'date': '17.02.2024', 'weekday': '\\tSat.'}, '23333': {'title': 'Stairway To Heaven', 'date': '17.02.2024', 'weekday': '\\tSat.'}, '23048': {'title': 'Der kleine Häwelmann', 'date': '18.02.2024', 'weekday': '\\tSun.'}, '23074': {'title': 'Der kleine Tag', 'date': '18.02.2024', 'weekday': '\\tSun.'}, '23423': {'title': 'Die Chemie des Lebens 3D – Das Unsichtbare in uns', 'date': '18.02.2024', 'weekday': '\\tSun.'}, '23010': {'title': 'Der Himmel über Hamburg', 'date': '18.02.2024', 'weekday': '\\tSun.'}, '23361': {'title': 'Sterntaler - Vom Universum belohnt', 'date': '18.02.2024', 'weekday': '\\tSun.'}, '23191': {'title': 'Im Nachtflug durch die Galaxis', 'date': '18.02.2024', 'weekday': '\\tSun.'}, '23159': {'title': 'Explore - 3D', 'date': '18.02.2024', 'weekday': '\\tSun.'}, '23301': {'title': 'Space Tour', 'date': '18.02.2024', 'weekday': '\\tSun.'}, '23197': {'title': 'Kleiner Stern im großen All', 'date': '20.02.2024', 'weekday': '\\tTue.'}, '22978': {'title': 'Der kleine Major Tom', 'date': '20.02.2024', 'weekday': '\\tTue.'}, '23235': {'title': 'Planeten - Expedition durchs Sonnensystem', 'date': '20.02.2024', 'weekday': '\\tTue.'}, '23014': {'title': 'Der Himmel über Hamburg', 'date': '20.02.2024', 'weekday': '\\tTue.'}, '23224': {'title': 'Neue Welten - Ferne Planeten', 'date': '20.02.2024', 'weekday': '\\tTue.'}, '23424': {'title': 'Die Chemie des Lebens 3D – Das Unsichtbare in uns', 'date': '20.02.2024', 'weekday': '\\tTue.'}, '23117': {'title': 'Die dunkle Seite des Lichts', 'date': '20.02.2024', 'weekday': '\\tTue.'}, '23101': {'title': 'Die Drei ??? - Das Dorf der Teufel', 'date': '20.02.2024', 'weekday': '\\tTue.'}, '23340': {'title': 'Sterntaler - Vom Universum belohnt', 'date': '21.02.2024', 'weekday': '\\tWed.'}, '23395': {'title': 'Wir sind Sterne 3D', 'date': '21.02.2024', 'weekday': '\\tWed.'}, '23176': {'title': 'Im Nachtflug durch die Galaxis', 'date': '21.02.2024', 'weekday': '\\tWed.'}, '23151': {'title': 'Explore - 3D', 'date': '21.02.2024', 'weekday': '\\tWed.'}, '23254': {'title': 'Planeten - Expedition durchs Sonnensystem', 'date': '21.02.2024', 'weekday': '\\tWed.'}, '22936': {'title': 'Aurora - Im Reich des Polarlichts', 'date': '21.02.2024', 'weekday': '\\tWed.'}, '23347': {'title': 'Sterntaler - Vom Universum belohnt', 'date': '22.02.2024', 'weekday': '\\tThu.'}, '23401': {'title': 'Wir sind Sterne 3D', 'date': '22.02.2024', 'weekday': '\\tThu.'}, '22914': {'title': '100 Jahre Planetarien - Special', 'date': '22.02.2024', 'weekday': '\\tThu.'}, '23023': {'title': 'Der Himmel über Hamburg', 'date': '22.02.2024', 'weekday': '\\tThu.'}, '23086': {'title': 'Die Apollo-Missionen zum Mond - Capcom Go! 3D', 'date': '22.02.2024', 'weekday': '\\tThu.'}, '23445': {'title': 'Vortrag von Prof. Dr. Lena Noack (FU Berlin):', 'date': '22.02.2024', 'weekday': '\\tThu.'}, '23132': {'title': 'Die Legende des Zauberriffs 3D', 'date': '23.02.2024', 'weekday': '\\tFri.'}, '23273': {'title': 'Polaris und das Rätsel der Polarnacht', 'date': '23.02.2024', 'weekday': '\\tFri.'}, '23313': {'title': 'Space Tour 3D', 'date': '23.02.2024', 'weekday': '\\tFri.'}, '23425': {'title': 'Die Chemie des Lebens 3D – Das Unsichtbare in uns', 'date': '23.02.2024', 'weekday': '\\tFri.'}, '23255': {'title': 'Planeten - Expedition durchs Sonnensystem', 'date': '23.02.2024', 'weekday': '\\tFri.'}, '23193': {'title': 'Im Nachtflug durch die Galaxis', 'date': '23.02.2024', 'weekday': '\\tFri.'}, '23225': {'title': 'Neues aus der Unendlichkeit', 'date': '23.02.2024', 'weekday': '\\tFri.'}, '23178': {'title': 'Im Nachtflug durch die Galaxis', 'date': '24.02.2024', 'weekday': '\\tSat.'}, '23354': {'title': 'Sterntaler - Vom Universum belohnt', 'date': '24.02.2024', 'weekday': '\\tSat.'}, '23317': {'title': 'Space Tour 3D', 'date': '24.02.2024', 'weekday': '\\tSat.'}, '22932': {'title': 'Aurora - Im Reich des Polarlichts', 'date': '24.02.2024', 'weekday': '\\tSat.'}, '23264': {'title': 'Planeten - Expedition durchs Sonnensystem', 'date': '24.02.2024', 'weekday': '\\tSat.'}, '23108': {'title': 'Die Drei ??? und die singende Schlange', 'date': '24.02.2024', 'weekday': '\\tSat.'}, '22949': {'title': 'Best of Deep Space Night', 'date': '24.02.2024', 'weekday': '\\tSat.'}, '23376': {'title': 'The Dark Side of the Moon Planetarium Experience', 'date': '24.02.2024', 'weekday': '\\tSat.'}, '23073': {'title': 'Der kleine Tag', 'date': '25.02.2024', 'weekday': '\\tSun.'}}\n"
     ]
    }
   ],
   "source": [
    "url = \"https://planetarium-hamburg.eventim-inhouse.de/webshop/webticket/eventlist\"\n",
    "\n",
    "headers_new = {}\n",
    "for key, value in headers.items():\n",
    "    key = key.encode(\"utf-8\")\n",
    "    value = value.encode(\"utf-8\")\n",
    "    headers_new[key] = value\n",
    "\n",
    "cookies_new = {}\n",
    "for key, value in cookies.items():\n",
    "    key = key.encode(\"utf-8\").decode(\"utf-8\")\n",
    "    value = value.encode(\"utf-8\").decode(\"utf-8\")\n",
    "    cookies_new[key] = value\n",
    "\n",
    "response = requests.get(url, headers=headers_new, cookies=cookies_new)\n",
    "soup = BeautifulSoup(response.content, \"html.parser\")\n",
    "\n",
    "print(\"Status code: \", response.status_code)\n",
    "\n",
    "#find <ul> id=\"eventListUl\" and get all <li> elements\n",
    "event_list = soup.find(\"ul\", {\"id\": \"eventListUl\"}).find_all(\"li\")\n",
    "\n",
    "\n",
    "events = {}\n",
    "for event in event_list:\n",
    "    # find <h2 id=\"event-title-EVENTID\"> and get text\n",
    "    title = event.find(\"h2\").text\n",
    "    event_id = event.find(\"h2\")[\"id\"].split(\"-\")[-1]\n",
    "\n",
    "    # find span with id \"event-date-EVENTID\" and get text\n",
    "    date_span = event.find(\"span\", {\"id\": \"event-date-\" + event_id})\n",
    "\n",
    "    # data_span = <span><span>Fri.</span> 16.02.2024</span>\n",
    "    weekday = date_span.find(\"span\").text.strip()\n",
    "    date = date_span.text.split(\"</span>\")[0].split(\" \")[-1].strip()\n",
    "\n",
    "    events[event_id] = {\n",
    "        \"title\": title,\n",
    "        \"date\": date,\n",
    "        \"weekday\": weekday\n",
    "    }\n",
    "    \n",
    "\n",
    "print(events)"
   ]
  }
 ],
 "metadata": {
  "kernelspec": {
   "display_name": "Python 3",
   "language": "python",
   "name": "python3"
  },
  "language_info": {
   "codemirror_mode": {
    "name": "ipython",
    "version": 3
   },
   "file_extension": ".py",
   "mimetype": "text/x-python",
   "name": "python",
   "nbconvert_exporter": "python",
   "pygments_lexer": "ipython3",
   "version": "3.11.6"
  }
 },
 "nbformat": 4,
 "nbformat_minor": 2
}
