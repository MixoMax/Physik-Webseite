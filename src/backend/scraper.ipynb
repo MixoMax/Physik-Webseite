{
 "cells": [
  {
   "cell_type": "code",
   "execution_count": 1,
   "metadata": {},
   "outputs": [
    {
     "name": "stdout",
     "output_type": "stream",
     "text": [
      "Note: you may need to restart the kernel to use updated packages.\n"
     ]
    }
   ],
   "source": [
    "%pip install -r requirements.txt -q"
   ]
  },
  {
   "cell_type": "code",
   "execution_count": 2,
   "metadata": {},
   "outputs": [],
   "source": [
    "import requests\n",
    "from bs4 import BeautifulSoup\n",
    "from tqdm import tqdm\n",
    "\n",
    "requests.packages.urllib3.util.connection.HAS_IPV6 = False"
   ]
  },
  {
   "cell_type": "code",
   "execution_count": 3,
   "metadata": {},
   "outputs": [
    {
     "name": "stdout",
     "output_type": "stream",
     "text": [
      "utf-8\n",
      "UTF-8\n"
     ]
    }
   ],
   "source": [
    "import sys\n",
    "import locale\n",
    "\n",
    "print(sys.getfilesystemencoding())\n",
    "print(locale.getpreferredencoding())"
   ]
  },
  {
   "cell_type": "code",
   "execution_count": 4,
   "metadata": {},
   "outputs": [],
   "source": [
    "def get_headers_and_cookies() -> tuple[dict, dict]:\n",
    "    headers = {\n",
    "        \"Accept-Language\": \"en-US,de;q=0.5\",\n",
    "        \"Accept\": \"text/html,application/xhtml+xml,application/xml;q=0.9,image/avif,image/webp,*/*;q=0.8\",\n",
    "        \"Cache-Control\": \"no-cache\",\n",
    "        \"Connection\": \"keep-alive\",\n",
    "        \"Host\": \"planetarium-hamburg.eventim-inhouse.de\",\n",
    "        \"Pragma\": \"no-cache\",\n",
    "        \"Referer\": \"https://planetarium-hamburg.eventim-inhouse.de/webshop/\",\n",
    "        \"Sec-Fetch-Dest\": \"document\",\n",
    "        \"Sec-Fetch-Mode\": \"navigate\",\n",
    "        \"Sec-Fetch-Site\": \"same-origin\",\n",
    "        \"Upgrade-Insecure-Requests\": \"1\",\n",
    "        \"User-Agent\": \"Mozilla/5.0 (X11; Ubuntu; Linux x86_64; rv:122.0) Gecko/20100101 Firefox/122.0\",\n",
    "        # tell server to use utf-8\n",
    "        \"Accept-Charset\": \"utf-8\",\n",
    "        }\n",
    "\n",
    "    cookies = {\n",
    "        \"_abck\": \"0A9A0316B6A3A24D1238C1B14D26C517~-1~YAAQJXvdWGMRP6SNAQAAwEXDsAsN3iftN8ALI7qy1QjQPqObR2DQkeyB8CV6tmfySmcD7MLQ8p1q9F2c3tiQoGufNswA3Ju5L7+UeHx6Wmnn0AwEoA7BGn+rr3GG34duNTwQW8EoF4HsIIeZ18UAFz/BhyecMVKiFta+y0QnyjNNNGE2RTjNbr5NcGPk9myqCFtFRe5Iih+rIVvFiwFwemB/+sYcaXkxST88+KZYjKtdI23ikS1L8/sLX9rmAH4u13fe6FJJtp3z0YRDp74WPYjXIiY4zmGbSbZHxiK6P48tTW8KOB7WwUGpbcO/iP7CVbFdfcIgsj60bS2pT1IBQ0XEb9VpZKjc0t61I9q3A/nODtJ23rOfp7kfW4gh+oMNh+XLlmzuiCKhHGQYUYGSuWLt~-1~-1~1708071203\",\n",
    "        \"ak_bmsc\": \"D924247C76E45C4105AD2750BE06B7D5~000000000000000000000000000000~YAAQJXvdWBkGP6SNAQAANgvCsBa17Ah5rIiQTv8BXQYptq9xT32TJ5gFLpMaBoQemUSg0Y9j8Oym2wPBIawnNgiDUcoBPzswQD/2Rw1GKH9ghN0Ute7TUOXeZnE9Q5wkzGML5Wh6vl6jsD9SUO9ZmiSA+v11kWUDomuRYRiQIK95oESGXuU4AtSXygqsEviKgbUepF/dSELQiDWZEBlaVlMhiKaWRP4gBMPGLdaO/kETV6AvmOPGdXtqmChe5r92kuPGrcL0Adz/7cr2LwCWomzxK/QVF6aUo7eSOyx0fUh4aYWwbU1ceiIFMrF9rhXsFBNTkrhA2XxfAMxF520n6xLXKGQ7OQfGeYg9T4ttyVLrFmkVohwrFBdPpHouxGR/jSWWM1iQJhdFiwo3RH1zB6c=\",\n",
    "        \"BIGipServer~ASP~sg_inhouse_planetarium-hamburg\": \"rd5o00000000000000000000ffff0ac05165o10063\",\n",
    "        \"bm_mi\": \"5A6D3F02F44132787908D05660DF17C7~YAAQJXvdWGsGP6SNAQAAOxPCsBat+dfY4XhYpEkjiISYNtfrgbflx6plwX5cwY9SGPPufuQh2VEeYBSXtFkiYBLq7SUnL3z0gnRMQzMxjIQAK1GvYLsHpS0/2EOvegIaDgg5CWzEvhoIGx/cJcIXCpzRrkmfKhE3sCT/6RH72Ri0CDtRFOZ1/BxSIsJhXQexw04R3WqLNX/pSI4XvWBpCjLrPrXPLHBnJLfT4vajkGKcibVn8081rtiIa/g3xX3oB4pk7G8TxdgwV19QQJftUc0nWSA7CyODsz/iS0QvH6unX2UxQSObZnE4jHzS4+fvQ/elnzohb+7ZKTkSGQW6ZlhuA7dCW2z9WyFEkmqYX6mF~1\",\n",
    "        \"bm_sv\": \"46A9F136F115FC7F326AFC6B0CC167BA~YAAQJXvdWGwGP6SNAQAAOxPCsBYnfePrc/t4W7W+lhGubSn3DU9GO0BOM9u9z4l2nCnt/0PUzBkWtaJclj2g0WAAXyrgSZR3L6YWg7rBh4vI0wEIE/Iy9cagyfrAKtshPlMMCintOBiJbS2IndubBq3+imnvsKnMM56oR7qBOZJZXxS/r9NLJqRbZiqXnDJOmz7W/z1WYZW9YBPtOUdDUfvbmQ5JRvDNk7gMGsUExEYSGq5e1QXk5wxU+maWy7E9UpFjOJ6Mm0Q=~1\",\n",
    "        \"bm_sz\": \"EEAC53921DF6096419FA3722D33F614C~YAAQJXvdWG0GP6SNAQAAOxPCsBaVQ2Ry7JJmxAsfrSpVafjRaR9o/wSTbZUEMXcYKf0DQvX/p1Npx+fU8WlE+uoWTYzVWMS1KvNTZRmPhjj8Bk9FZnrYfYjwnTaufm+IxqKWCbKNizqYbBFsPIEXqQ/24lzCdXdSex0toD1wOcolwhUk/F7I8si+pFbbUju1yUEsi4mp7tGW0/gbYtBwMjf23pmnQmDk3+/grXVcErdk4qzdWEPEOwPpm/H+lPAEnPxgXFyHWydEDuGp/60KAGscEDnYLSneNGwygc3MznbPUYt9Hde57iielzZLbe41Zoagx1xSLZLRY722QiW47iIcUTmtEYinGQ7ev+wxNTeB1MWhhkk6bIlPxRvqJmzDXxPvq+9KThhYRUs=~4474166~3553328\",\n",
    "        \"JSESSIONID\": \"EC04190F82889D8C9BAC752AF8838646\",\n",
    "        \"cookieControl\": \"true\",\n",
    "        \"cookieControlPrefs\": \"[]\",\n",
    "        \"csrf_https-contao_csrf_token\": \"gt1vLb-9uob77kJexjqhUHOVJxZ7bsr9j3SvKE65EF0\",\n",
    "    }\n",
    "\n",
    "    headers_new = {}\n",
    "    for key, value in headers.items():\n",
    "        key = key.encode(\"utf-8\")\n",
    "        value = value.encode(\"utf-8\")\n",
    "        headers_new[key] = value\n",
    "\n",
    "    cookies_new = {}\n",
    "    for key, value in cookies.items():\n",
    "        key = key.encode(\"utf-8\").decode(\"utf-8\")\n",
    "        value = value.encode(\"utf-8\").decode(\"utf-8\")\n",
    "        cookies_new[key] = value\n",
    "    \n",
    "    headers_new[\"Cookie\"] = \"; \".join([f\"{key}={value}\" for key, value in cookies_new.items()])\n",
    "    \n",
    "    return headers_new, cookies_new"
   ]
  },
  {
   "cell_type": "code",
   "execution_count": 5,
   "metadata": {},
   "outputs": [],
   "source": [
    "def get_current_events() -> dict[str: str]:\n",
    "    url = \"https://planetarium-hamburg.eventim-inhouse.de/webshop/webticket/shop\"\n",
    "\n",
    "    headers, cookies = get_headers_and_cookies()\n",
    "\n",
    "    response = requests.get(url, headers=headers, cookies=cookies)\n",
    "    soup = BeautifulSoup(response.content, \"html.parser\")\n",
    "\n",
    "    #find <ul> id=\"eventListUl\" and get all <li> elements\n",
    "    event_list = soup.find(\"ul\", {\"id\": \"eventListUl\"})\n",
    "    if event_list:\n",
    "        event_list = event_list.find_all(\"li\")\n",
    "    else:\n",
    "        print(\"No events found\")\n",
    "        return {}\n",
    "\n",
    "\n",
    "    events = {}\n",
    "    for event in event_list:\n",
    "        # find <h2 id=\"event-title-EVENTID\"> and get text\n",
    "        title = event.find(\"h2\").text\n",
    "        event_id = event.find(\"h2\")[\"id\"].split(\"-\")[-1]\n",
    "\n",
    "        # find span with id \"event-date-EVENTID\" and get text\n",
    "        date_span = event.find(\"span\", {\"id\": \"event-date-\" + event_id})\n",
    "\n",
    "        # data_span = <span><span>Fri.</span> 16.02.2024</span>\n",
    "        weekday = date_span.find(\"span\").text.strip()\n",
    "        date = date_span.text.split(\"</span>\")[0].split(\" \")[-1].strip()\n",
    "\n",
    "        # find span#event-time-EVENTID.evt-event-detail_time\n",
    "        time_HH_MM = event.find(\"span\", {\"id\": \"event-time-\" + event_id}).text.strip()\n",
    "\n",
    "        # find span id \"event-location-EVENTID\" \n",
    "        location = event.find(\"span\", {\"id\": \"event-location-\" + event_id}).text.strip()\n",
    "\n",
    "        events[event_id] = {\n",
    "            \"title\": title,\n",
    "            \"date\": date,\n",
    "            \"weekday\": weekday,\n",
    "            \"time\": time_HH_MM,\n",
    "            \"location\": location\n",
    "        }\n",
    "\n",
    "\n",
    "    return events"
   ]
  },
  {
   "cell_type": "code",
   "execution_count": 6,
   "metadata": {},
   "outputs": [],
   "source": [
    "def get_description_and_more_data(event_name: str) -> str:\n",
    "    title = event_name.replace(\" \", \"-\").lower().replace(\"-–-\", \"-\")\n",
    "\n",
    "    url = f\"https://www.planetarium-hamburg.de/de/veranstaltungen-tickets/details/{title}/\"\n",
    "\n",
    "\n",
    "    headers, cookies = get_headers_and_cookies()\n",
    "\n",
    "    headers = {\n",
    "        \"Host\": \"www.planetarium-hamburg.de\",\n",
    "        \"User-Agent\": \"Mozilla/5.0 (X11; Linux x86_64; rv:123.0) Gecko/20100101 Firefox/123.0\",\n",
    "        \"Accept\": \"text/html,application/xhtml+xml,application/xml;q=0.9,image/avif,image/webp,*/*;q=0.8\",\n",
    "        \"Accept-Language\": \"en-US,de;q=0.5\",\n",
    "        \"Accept-Encoding\": \"gzip, deflate, br\",\n",
    "        \"Connection\": \"keep-alive\",\n",
    "        \"Cookie\": \"cookieControl=true; cookieControlPrefs=[]; csrf_https-contao_csrf_token=gt1vLb-9uob77kJexjqhUHOVJxZ7bsr9j3SvKE65EF0\",\n",
    "        \"Upgrade-Insecure-Requests\": \"1\",\n",
    "        \"Sec-Fetch-Dest\": \"document\",\n",
    "        \"Sec-Fetch-Mode\": \"navigate\",\n",
    "        \"Sec-Fetch-Site\": \"none\",\n",
    "        \"Sec-Fetch-User\": \"?1\",\n",
    "        \"Pragma\": \"no-cache\",\n",
    "        \"Cache-Control\": \"no-cache\"\n",
    "    }\n",
    "\n",
    "    r = requests.get(url, headers=headers, cookies=cookies)\n",
    "    soup = BeautifulSoup(r.content, \"html.parser\")\n",
    "\n",
    "    div_classes = [\"zb-ce\", \"zb-ce-text\", \"ce-text\", \"column\"]\n",
    "    data_div_arrs = []\n",
    "    for div_class in div_classes:\n",
    "        data_div_arrs.append(soup.find_all(\"div\", {\"class\": div_class}))\n",
    "    \n",
    "    data_divs = []\n",
    "    # append all divs that are in all data_div_arrs\n",
    "    for div in data_div_arrs[0]:\n",
    "        if all(div in data_div_arr for data_div_arr in data_div_arrs):\n",
    "            data_divs.append(div)\n",
    "\n",
    "    desription_text = \"\"\n",
    "    for div in data_divs:\n",
    "        #find all p elements\n",
    "        p_elements = div.find_all(\"p\")\n",
    "        if p_elements:\n",
    "            for p in p_elements:\n",
    "                desription_text += p.text + \"\\n\"\n",
    "    \n",
    "\n",
    "    description_text_cleaned = \"\"\n",
    "    data = {}\n",
    "    for line in desription_text.split(\"\\n\"):\n",
    "        if line.startswith(\"Eintritt:\"):\n",
    "            # Eintritt: 13,50 Euro, ermäßigt 9,- Euro. Dauer: ca. 50 Minuten. Empfohlen ab 12 Jahren.\n",
    "            try:\n",
    "                price_normal_limiters = [\"Eintritt: \", \" Euro, ermäßigt \"]\n",
    "                price_normal = line.split(price_normal_limiters[0])[1].split(price_normal_limiters[1])[0]\n",
    "                data[\"price_normal\"] = float(price_normal.replace(\",\", \".\"))\n",
    "            except:\n",
    "                data[\"price_normal\"] = None\n",
    "\n",
    "            try:\n",
    "                price_reduced_limiters = [\" Euro. Dauer: ca. \", \" Minuten. Empfohlen ab \"]\n",
    "                price_reduced = line.split(price_reduced_limiters[0])[1].split(price_reduced_limiters[1])[0]\n",
    "                data[\"price_reduced\"] = float(price_reduced.replace(\",\", \".\"))\n",
    "            except:\n",
    "                data[\"price_reduced\"] = None\n",
    "\n",
    "            try:\n",
    "                duration_limiters = [\" Euro. Dauer: ca. \", \" Minuten. Empfohlen ab \"]\n",
    "                duration = line.split(duration_limiters[0])[1].split(duration_limiters[1])[0]\n",
    "                data[\"duration\"] = int(duration)\n",
    "            except:\n",
    "                data[\"duration\"] = None\n",
    "\n",
    "            try:\n",
    "                recommended_age = line.split(duration_limiters[1])[1].split(\" Jahren.\")[0]\n",
    "                data[\"recommended_age\"] = int(recommended_age)\n",
    "            except:\n",
    "                data[\"recommended_age\"] = None\n",
    "        else:\n",
    "            description_text_cleaned += line + \"\\n\"\n",
    "    \n",
    "    data[\"description\"] = description_text_cleaned\n",
    "\n",
    "    return data\n",
    "        "
   ]
  },
  {
   "cell_type": "code",
   "execution_count": 7,
   "metadata": {},
   "outputs": [
    {
     "name": "stderr",
     "output_type": "stream",
     "text": [
      "100%|██████████| 5/5 [00:06<00:00,  1.22s/it]"
     ]
    },
    {
     "name": "stdout",
     "output_type": "stream",
     "text": [
      "{'23425': {'title': 'Die Chemie des Lebens 3D – Das Unsichtbare in uns', 'date': '23.02.2024', 'weekday': 'Fri.', 'time': '15:00', 'location': 'Planetarium Hamburg', 'price_normal': 13.5, 'price_reduced': 50.0, 'duration': 50, 'recommended_age': 12, 'description': 'Was haben alle lebenden Dinge gemeinsam? Wie winzig sind Moleküle? Was passiert in unseren Zellen, nachdem wir gegessen haben? In „Chemie des Lebens – Das Unsichtbare in uns“ finden wir die Antworten auf diese und viele weitere Fragen. Die Show zeigt chemische Prozesse, die für alles Leben auf der Erde essenziell sind. Wir schrumpfen auf einige Nanometer und reisen tief in die Zellen von Pflanzen und Menschen, um die Chemie des Lebens zu erkunden. Dabei werden wir herausfinden, warum Moleküle selbst mit den leistungsstärksten Lichtmikroskopen nicht zu sehen sind und einige der Werkzeuge kennenlernen, die die Forschung heute verwendet, um mehr über unser unsichtbares Inneres zu erfahren.\\n„Die Chemie des Lebens – Das Unsichtbare in uns“ macht die biomolekulare Welt durch modernste molekulare Visualisierungen konkreter und zugänglicher. Die Produktion konzentriert sich darauf, die mit dem Leben verbundenen Prozesse – Atmen, Essen und Denken – mit biochemischen Prozessen in den Zellen des Körpers zu verbinden.\\nMit Hilfe von dynamischen Animationen, die auf Forschungsdaten basieren, und dem immersiven Kuppelformat erleben wir die molekulare Welt auf eine ganz neue Weise und erlangen ein tieferes Verständnis für die unsichtbare Welt, die in uns allen existiert.\\nDiese Show können Sie via Audioservice auch auf Englisch hören. Live-Parts sind nicht übersetzt.\\n\\n'}, '23225': {'title': 'Neues aus der Unendlichkeit', 'date': '23.02.2024', 'weekday': 'Fri.', 'time': '19:30', 'location': 'Planetarium Hamburg', 'description': 'Raumsonden, neue Techniken und Weltraumfernrohre revolutionieren unser Bild vom Universum. Was gibt es Neues aus der Welt der Sterne? Welche Entdeckungen wurden kürzlich gemacht?\\nIn diesem Vortragsformat möchten wir uns den spannenden Themen der Forschung zuwenden, die aktuell intensiv diskutiert werden. Folgen Sie den Astronomen des Planetariums auf der Entdeckungsfahrt durch den Kosmos – und stellen Sie Ihre Fragen. Zu jedem Termin ist ein unverbindlicher Schwerpunkt geplant. Bei besonderen Ereignissen wird das Programm kurzfristig aktualisiert. Immer wird jedoch auch ein allgemeiner Blick gen Sternenhimmel geworfen - und Ihre Fragen sind stets willkommen!Eintritt: 12,- Euro, ermäßigt 7,50 Euro. Dauer ca. 90 Minuten. Empfohlen ab 14 Jahren.\\n\\n'}, '23178': {'title': 'Im Nachtflug durch die Galaxis', 'date': '24.02.2024', 'weekday': 'Sat.', 'time': '13:00', 'location': 'Planetarium Hamburg', 'description': 'Unsere Milchstraße – die Galaxis ... In jeder sternklaren Nacht, und abseits störender Stadtlichter, stehen wir ehrfürchtig vor ihrer immensen Größe und sind fasziniert von ihrer Schönheit. Lehnen Sie sich zurück und genießen Sie den Blick auf Sternwolken und Sternbilder, die sich entlang der Ebene unserer Milchstraße zeigen.\\nLernen Sie eine nie zuvor gesehene Vielfalt an Sternen kennen, von denen jeder eine eigene, unverwechselbare Geschichte hat – einzigartig von seiner Geburt aus Wolken von Staub bis zu seinem Ende. Erst durch eine akribisch genaue Beobachtung enthüllen die Sterne uns ihre Geheimnisse. Wie lange existieren sie, und auf welche Art gehen sie unter? Welche Entwicklung durchlaufen sie dabei? Sehen wir uns den Lebensweg der Sterne einmal genauer an – auch über Geschichte und Zukunft unseres Sterns, der Sonne, lernen wir dabei Faszinierendes. Begleiten Sie uns auf diesem unvergesslichen Nachtflug durch die Galaxis.\\nEine Produktion von Evans & Sutherland in der erweiterten Fassung des Planetarium Hamburg.Eintritt: 12,- Euro, ermäßigt 7,50 Euro. Dauer ca. 50 Minuten. Empfohlen ab 12 Jahren.\\nDiese Show können Sie via Audioservice auch auf Englisch, Französisch und Spanisch hören. Live-Parts sind nicht übersetzt.\\n\\n'}, '23354': {'title': 'Sterntaler - Vom Universum belohnt', 'date': '24.02.2024', 'weekday': 'Sat.', 'time': '14:15', 'location': 'Planetarium Hamburg', 'description': '\\n'}, '23317': {'title': 'Space Tour 3D', 'date': '24.02.2024', 'weekday': 'Sat.', 'time': '15:15', 'location': 'Planetarium Hamburg', 'description': 'Lernen Sie Planeten, Sterne und die unvorstellbaren räumlichen Tiefen des Weltalls auf spektakuläre Art und Weise kennen - ohne Ihren bequemen Liegesessel im Sternensaal des Planetariums zu verlassen. Die neue 3D-Technik und 8K-Bildqualität des Planetariums erlaubt uns einen Flug durch das Universum, bei dem der räumliche Aufbau des Kosmos geradezu \"ins Auge springt\".\\nUnsere Piloten und Sternennavigatoren führen Sie von unserer Erde durch das Sonnensystem und hinaus in die Weiten der Sterne und Galaxien. Nie waren die Sterne so nah und der Kosmos so anschaulich wie hier!Eintritt: 13,50 Euro, ermäßigt 9,- Euro. Dauer ca. 60 Minuten. Empfohlen ab 12 Jahren.\\n\\xa0\\n\\n'}}\n"
     ]
    },
    {
     "name": "stderr",
     "output_type": "stream",
     "text": [
      "\n"
     ]
    }
   ],
   "source": [
    "events = get_current_events()\n",
    "events_out = {}\n",
    "for event_id, event in tqdm(list(events.items())[:5]):\n",
    "    more_data = get_description_and_more_data(event[\"title\"])\n",
    "    events_out[event_id] = {}\n",
    "    for key, value in event.items():\n",
    "        events_out[event_id][key] = value\n",
    "    for key, value in more_data.items():\n",
    "        events_out[event_id][key] = value\n",
    "\n",
    "print(events_out)"
   ]
  },
  {
   "cell_type": "code",
   "execution_count": 8,
   "metadata": {},
   "outputs": [],
   "source": [
    "from classes import Event, Filter, DB"
   ]
  },
  {
   "cell_type": "code",
   "execution_count": 9,
   "metadata": {},
   "outputs": [],
   "source": [
    "db = DB()\n",
    "\n",
    "for event_id, event_data in events_out.items():\n",
    "    ev = Event().from_json(event_data)\n",
    "    db.add_event(ev)"
   ]
  }
 ],
 "metadata": {
  "kernelspec": {
   "display_name": "Python 3",
   "language": "python",
   "name": "python3"
  },
  "language_info": {
   "codemirror_mode": {
    "name": "ipython",
    "version": 3
   },
   "file_extension": ".py",
   "mimetype": "text/x-python",
   "name": "python",
   "nbconvert_exporter": "python",
   "pygments_lexer": "ipython3",
   "version": "3.11.7"
  }
 },
 "nbformat": 4,
 "nbformat_minor": 2
}
