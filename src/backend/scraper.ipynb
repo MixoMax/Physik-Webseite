{
 "cells": [
  {
   "cell_type": "code",
   "execution_count": 1,
   "metadata": {},
   "outputs": [
    {
     "name": "stdout",
     "output_type": "stream",
     "text": [
      "40\n"
     ]
    }
   ],
   "source": [
    "from scraper import get_current_events, get_description_and_more_data, get_headers_and_cookies\n",
    "from classes import Event, DB, Filter"
   ]
  },
  {
   "cell_type": "code",
   "execution_count": 13,
   "metadata": {},
   "outputs": [
    {
     "name": "stdout",
     "output_type": "stream",
     "text": [
      "https://www.planetarium-hamburg.de/files/default/img/hamburg--logo.png\n",
      "{'description': '\\n', 'img_url': 'https://www.planetarium-hamburg.de/files/default/img/hamburg--logo.png'}\n"
     ]
    }
   ],
   "source": [
    "data = get_description_and_more_data(\"Explore - 3D\")\n",
    "print(data)"
   ]
  }
 ],
 "metadata": {
  "kernelspec": {
   "display_name": "Python 3",
   "language": "python",
   "name": "python3"
  },
  "language_info": {
   "codemirror_mode": {
    "name": "ipython",
    "version": 3
   },
   "file_extension": ".py",
   "mimetype": "text/x-python",
   "name": "python",
   "nbconvert_exporter": "python",
   "pygments_lexer": "ipython3",
   "version": "3.11.7"
  }
 },
 "nbformat": 4,
 "nbformat_minor": 2
}
