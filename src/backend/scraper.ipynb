{
 "cells": [
  {
   "cell_type": "code",
   "execution_count": 1,
   "metadata": {},
   "outputs": [],
   "source": [
    "from scraper import get_current_events, get_description_and_more_data, get_headers_and_cookies\n",
    "from classes import Event, DB, Filter"
   ]
  },
  {
   "cell_type": "code",
   "execution_count": 2,
   "metadata": {},
   "outputs": [
    {
     "name": "stdout",
     "output_type": "stream",
     "text": [
      "https://www.planetarium-hamburg.de/de/veranstaltungen-tickets/details/space-tour-3d/\n",
      "https://www.planetarium-hamburg.de/de/veranstaltungen-tickets/details/planeten-expedition-durchs-sonnensystem/\n",
      "https://www.planetarium-hamburg.de/de/veranstaltungen-tickets/details/polaris-und-das-rätsel-der-polarnacht/\n",
      "https://www.planetarium-hamburg.de/de/veranstaltungen-tickets/details/im-nachtflug-durch-die-galaxis/\n",
      "https://www.planetarium-hamburg.de/de/veranstaltungen-tickets/details/ein-virtuoser-kosmos/\n",
      "https://www.planetarium-hamburg.de/de/veranstaltungen-tickets/details/queen-heaven-the-original/\n",
      "https://www.planetarium-hamburg.de/de/veranstaltungen-tickets/details/der-kleine-tag/\n",
      "https://www.planetarium-hamburg.de/de/veranstaltungen-tickets/details/planeten-expedition-durchs-sonnensystem/\n",
      "https://www.planetarium-hamburg.de/de/veranstaltungen-tickets/details/wir-sind-sterne-3d/\n",
      "https://www.planetarium-hamburg.de/de/veranstaltungen-tickets/details/explore-3d/\n",
      "https://www.planetarium-hamburg.de/de/veranstaltungen-tickets/details/im-nachtflug-durch-die-galaxis/\n",
      "https://www.planetarium-hamburg.de/de/veranstaltungen-tickets/details/der-himmel-über-hamburg/\n",
      "https://www.planetarium-hamburg.de/de/veranstaltungen-tickets/details/premiere:-die-zukunft-des-universums/\n",
      "https://www.planetarium-hamburg.de/de/veranstaltungen-tickets/details/sterntaler-vom-universum-belohnt/\n",
      "https://www.planetarium-hamburg.de/de/veranstaltungen-tickets/details/space-tour-3d/\n",
      "https://www.planetarium-hamburg.de/de/veranstaltungen-tickets/details/die-zukunft-des-universums/\n",
      "https://www.planetarium-hamburg.de/de/veranstaltungen-tickets/details/der-himmel-über-hamburg/\n",
      "https://www.planetarium-hamburg.de/de/veranstaltungen-tickets/details/aurora-im-reich-des-polarlichts/\n",
      "https://www.planetarium-hamburg.de/de/veranstaltungen-tickets/details/die-drei-???-das-dorf-der-teufel/\n",
      "https://www.planetarium-hamburg.de/de/veranstaltungen-tickets/details/best-of-deep-space-night/\n",
      "https://www.planetarium-hamburg.de/de/veranstaltungen-tickets/details/cosmic-jazz/\n",
      "https://www.planetarium-hamburg.de/de/veranstaltungen-tickets/details/der-kleine-häwelmann/\n",
      "https://www.planetarium-hamburg.de/de/veranstaltungen-tickets/details/der-kleine-major-tom/\n",
      "https://www.planetarium-hamburg.de/de/veranstaltungen-tickets/details/100-jahre-planetarien-special/\n",
      "https://www.planetarium-hamburg.de/de/veranstaltungen-tickets/details/space-tour-3d/\n",
      "https://www.planetarium-hamburg.de/de/veranstaltungen-tickets/details/earth-choir-kids/\n",
      "https://www.planetarium-hamburg.de/de/veranstaltungen-tickets/details/meine-heimat-unser-blauer-planet/\n",
      "https://www.planetarium-hamburg.de/de/veranstaltungen-tickets/details/kleiner-stern-im-großen-all/\n",
      "https://www.planetarium-hamburg.de/de/veranstaltungen-tickets/details/habitat-erde-die-wunderwelt-des-lebens/\n",
      "https://www.planetarium-hamburg.de/de/veranstaltungen-tickets/details/wir-sind-sterne-3d/\n",
      "https://www.planetarium-hamburg.de/de/veranstaltungen-tickets/details/im-nachtflug-durch-die-galaxis/\n",
      "https://www.planetarium-hamburg.de/de/veranstaltungen-tickets/details/space-tour/\n",
      "https://www.planetarium-hamburg.de/de/veranstaltungen-tickets/details/die-drei-???-das-dorf-der-teufel/\n",
      "https://www.planetarium-hamburg.de/de/veranstaltungen-tickets/details/explore-3d/\n",
      "https://www.planetarium-hamburg.de/de/veranstaltungen-tickets/details/der-himmel-über-hamburg/\n",
      "https://www.planetarium-hamburg.de/de/veranstaltungen-tickets/details/die-legende-des-zauberriffs-3d/\n",
      "https://www.planetarium-hamburg.de/de/veranstaltungen-tickets/details/der-kleine-major-tom/\n",
      "https://www.planetarium-hamburg.de/de/veranstaltungen-tickets/details/voyager-die-unendliche-reise-3d/\n",
      "https://www.planetarium-hamburg.de/de/veranstaltungen-tickets/details/vortrag:-virologie-wie-sie-unser-leben-im-21.-jahrhundert-beeinflusst/\n",
      "https://www.planetarium-hamburg.de/de/veranstaltungen-tickets/details/space-tour-3d/\n",
      "28 40\n"
     ]
    }
   ],
   "source": [
    "events = get_current_events()\n",
    "description_missing = []\n",
    "events_new = {}\n",
    "for event_id, event_data in events.items():\n",
    "    new_data = get_description_and_more_data(event_data[\"title\"])\n",
    "    events[event_id].update(new_data)\n",
    "\n",
    "    if len(events[event_id][\"description\"]) < 10:\n",
    "        title = event_data[\"title\"].replace(\" \", \"-\").lower().replace(\"-–-\", \"-\").replace(\"---\", \"-\")\n",
    "        description_missing.append(f\"https://www.planetarium-hamburg.de/de/veranstaltungen-tickets/details/{title}/\")\n",
    "    else:\n",
    "        events_new[event_id] = events[event_id]\n",
    "\n",
    "print(len(events_new), len(events))"
   ]
  },
  {
   "cell_type": "code",
   "execution_count": 3,
   "metadata": {},
   "outputs": [
    {
     "name": "stdout",
     "output_type": "stream",
     "text": [
      "https://www.planetarium-hamburg.de/de/veranstaltungen-tickets/details/polaris-und-das-rätsel-der-polarnacht/\n",
      "https://www.planetarium-hamburg.de/de/veranstaltungen-tickets/details/explore-3d/\n",
      "https://www.planetarium-hamburg.de/de/veranstaltungen-tickets/details/premiere:-die-zukunft-des-universums/\n",
      "https://www.planetarium-hamburg.de/de/veranstaltungen-tickets/details/die-drei-???-das-dorf-der-teufel/\n",
      "https://www.planetarium-hamburg.de/de/veranstaltungen-tickets/details/der-kleine-häwelmann/\n",
      "https://www.planetarium-hamburg.de/de/veranstaltungen-tickets/details/100-jahre-planetarien-special/\n",
      "https://www.planetarium-hamburg.de/de/veranstaltungen-tickets/details/meine-heimat-unser-blauer-planet/\n",
      "https://www.planetarium-hamburg.de/de/veranstaltungen-tickets/details/kleiner-stern-im-großen-all/\n",
      "https://www.planetarium-hamburg.de/de/veranstaltungen-tickets/details/die-drei-???-das-dorf-der-teufel/\n",
      "https://www.planetarium-hamburg.de/de/veranstaltungen-tickets/details/explore-3d/\n",
      "https://www.planetarium-hamburg.de/de/veranstaltungen-tickets/details/voyager-die-unendliche-reise-3d/\n",
      "https://www.planetarium-hamburg.de/de/veranstaltungen-tickets/details/vortrag:-virologie-wie-sie-unser-leben-im-21.-jahrhundert-beeinflusst/\n"
     ]
    }
   ],
   "source": [
    "print(*description_missing, sep=\"\\n\")"
   ]
  }
 ],
 "metadata": {
  "kernelspec": {
   "display_name": "Python 3",
   "language": "python",
   "name": "python3"
  },
  "language_info": {
   "codemirror_mode": {
    "name": "ipython",
    "version": 3
   },
   "file_extension": ".py",
   "mimetype": "text/x-python",
   "name": "python",
   "nbconvert_exporter": "python",
   "pygments_lexer": "ipython3",
   "version": "3.11.7"
  }
 },
 "nbformat": 4,
 "nbformat_minor": 2
}
