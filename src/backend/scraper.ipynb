{
 "cells": [
  {
   "cell_type": "code",
   "execution_count": 1,
   "metadata": {},
   "outputs": [
    {
     "name": "stdout",
     "output_type": "stream",
     "text": [
      "40\n"
     ]
    }
   ],
   "source": [
    "from scraper import get_current_events, get_description_and_more_data, get_headers_and_cookies\n",
    "from classes import Event, DB, Filter"
   ]
  },
  {
   "cell_type": "code",
   "execution_count": 2,
   "metadata": {},
   "outputs": [
    {
     "name": "stdout",
     "output_type": "stream",
     "text": [
      "https://www.planetarium-hamburg.de/files/usr/module/produktionen/planeten-expedition-durchs-sonnensystem/Thumbnail_PlanetenExpeditionDurchsSonnensystem.jpg\n",
      "https://www.planetarium-hamburg.de/assets/images/9/Thumbnail_WirSindSterne-8e8a2fe4.jpg\n",
      "https://www.planetarium-hamburg.de/files/default/img/hamburg--logo.png\n",
      "https://www.planetarium-hamburg.de/assets/images/5/Thumbnail_ImNachtflugDurchDieGalaxis-86e5fbb2.jpg\n",
      "https://www.planetarium-hamburg.de/files/default/img/hamburg--logo.png\n",
      "https://www.planetarium-hamburg.de/files/default/img/hamburg--logo.png\n",
      "https://www.planetarium-hamburg.de/assets/images/b/Thumbnail_Sterntaler-ef92caa8.jpg\n",
      "https://www.planetarium-hamburg.de/files/default/img/hamburg--logo.png\n",
      "https://www.planetarium-hamburg.de/files/usr/module/produktionen/die-zukunft-des-universums/Thumbnail_DieZukunftDesUniversums.jpg\n",
      "https://www.planetarium-hamburg.de/files/default/img/hamburg--logo.png\n",
      "https://www.planetarium-hamburg.de/assets/images/6/thumbnail-aurora-trailer-7a32da8c.jpg\n",
      "https://www.planetarium-hamburg.de/files/default/img/hamburg--logo.png\n",
      "https://www.planetarium-hamburg.de/assets/images/4/BestOfDeepSpaceNight_HDStill_01-a0107fa7.png\n",
      "https://www.planetarium-hamburg.de/assets/images/e/CosmicJazz_01-ad86c5e4.jpg\n",
      "https://www.planetarium-hamburg.de/files/default/img/hamburg--logo.png\n",
      "https://www.planetarium-hamburg.de/assets/images/3/Thumbnail_DerKleineMajorTom-71c93d43.jpg\n",
      "https://www.planetarium-hamburg.de/files/default/img/hamburg--logo.png\n",
      "https://www.planetarium-hamburg.de/files/default/img/hamburg--logo.png\n",
      "https://www.planetarium-hamburg.de/assets/images/f/Chor%2001-bc1355de.jpg\n",
      "https://www.planetarium-hamburg.de/files/default/img/hamburg--logo.png\n",
      "https://www.planetarium-hamburg.de/files/default/img/hamburg--logo.png\n",
      "https://www.planetarium-hamburg.de/files/usr/module/produktionen/Thumbnail_HabitatErde.jpg\n",
      "https://www.planetarium-hamburg.de/assets/images/9/Thumbnail_WirSindSterne-8e8a2fe4.jpg\n",
      "https://www.planetarium-hamburg.de/assets/images/5/Thumbnail_ImNachtflugDurchDieGalaxis-86e5fbb2.jpg\n",
      "https://www.planetarium-hamburg.de/files/default/img/hamburg--logo.png\n",
      "https://www.planetarium-hamburg.de/files/default/img/hamburg--logo.png\n",
      "https://www.planetarium-hamburg.de/files/default/img/hamburg--logo.png\n",
      "https://www.planetarium-hamburg.de/files/default/img/hamburg--logo.png\n",
      "https://www.planetarium-hamburg.de/assets/images/6/Thumbnail_DieLegendeDesZauberriffs-6b1932dd.jpg\n",
      "https://www.planetarium-hamburg.de/assets/images/3/Thumbnail_DerKleineMajorTom-71c93d43.jpg\n",
      "https://www.planetarium-hamburg.de/files/default/img/hamburg--logo.png\n",
      "https://www.planetarium-hamburg.de/files/default/img/hamburg--logo.png\n",
      "https://www.planetarium-hamburg.de/files/default/img/hamburg--logo.png\n",
      "https://www.planetarium-hamburg.de/assets/images/5/Thumbnail_ImNachtflugDurchDieGalaxis-86e5fbb2.jpg\n",
      "https://www.planetarium-hamburg.de/files/usr/module/produktionen/planeten-expedition-durchs-sonnensystem/Thumbnail_PlanetenExpeditionDurchsSonnensystem.jpg\n",
      "https://www.planetarium-hamburg.de/assets/images/3/Thumbnail_DieChemieDesLebens-bb624896.jpg\n",
      "https://www.planetarium-hamburg.de/assets/images/1/Neue%20Welten%20Ferne%20Planeten_Keyvisual_c_TU%20Berlin-2908d935.jpg\n",
      "https://www.planetarium-hamburg.de/assets/images/6/DieDunkleSeiteDesLichts_Keyvisual_c_Planetarium%20Brno-ee9f5369.jpg\n",
      "https://www.planetarium-hamburg.de/files/default/img/hamburg--logo.png\n"
     ]
    }
   ],
   "source": [
    "events = get_current_events()\n",
    "description_missing = []\n",
    "events_new = {}\n",
    "for event_id, event_data in events.items():\n",
    "    new_data = get_description_and_more_data(event_data[\"title\"])\n",
    "    events[event_id].update(new_data)\n",
    "\n",
    "    if len(events[event_id][\"description\"]) < 10:\n",
    "        title = event_data[\"title\"].replace(\" \", \"-\").lower().replace(\"-–-\", \"-\").replace(\"---\", \"-\")\n",
    "        description_missing.append(f\"https://www.planetarium-hamburg.de/de/veranstaltungen-tickets/details/{title}/\")\n",
    "    else:\n",
    "        events_new[event_id] = events[event_id]\n",
    "\n",
    "print(len(events_new), len(events))"
   ]
  },
  {
   "cell_type": "code",
   "execution_count": null,
   "metadata": {},
   "outputs": [
    {
     "name": "stdout",
     "output_type": "stream",
     "text": [
      "https://www.planetarium-hamburg.de/de/veranstaltungen-tickets/details/polaris-und-das-rätsel-der-polarnacht/\n",
      "https://www.planetarium-hamburg.de/de/veranstaltungen-tickets/details/explore-3d/\n",
      "https://www.planetarium-hamburg.de/de/veranstaltungen-tickets/details/premiere:-die-zukunft-des-universums/\n",
      "https://www.planetarium-hamburg.de/de/veranstaltungen-tickets/details/die-drei-???-das-dorf-der-teufel/\n",
      "https://www.planetarium-hamburg.de/de/veranstaltungen-tickets/details/der-kleine-häwelmann/\n",
      "https://www.planetarium-hamburg.de/de/veranstaltungen-tickets/details/100-jahre-planetarien-special/\n",
      "https://www.planetarium-hamburg.de/de/veranstaltungen-tickets/details/meine-heimat-unser-blauer-planet/\n",
      "https://www.planetarium-hamburg.de/de/veranstaltungen-tickets/details/kleiner-stern-im-großen-all/\n",
      "https://www.planetarium-hamburg.de/de/veranstaltungen-tickets/details/die-drei-???-das-dorf-der-teufel/\n",
      "https://www.planetarium-hamburg.de/de/veranstaltungen-tickets/details/explore-3d/\n",
      "https://www.planetarium-hamburg.de/de/veranstaltungen-tickets/details/voyager-die-unendliche-reise-3d/\n",
      "https://www.planetarium-hamburg.de/de/veranstaltungen-tickets/details/vortrag:-virologie-wie-sie-unser-leben-im-21.-jahrhundert-beeinflusst/\n"
     ]
    }
   ],
   "source": [
    "print(*description_missing, sep=\"\\n\")"
   ]
  }
 ],
 "metadata": {
  "kernelspec": {
   "display_name": "Python 3",
   "language": "python",
   "name": "python3"
  },
  "language_info": {
   "codemirror_mode": {
    "name": "ipython",
    "version": 3
   },
   "file_extension": ".py",
   "mimetype": "text/x-python",
   "name": "python",
   "nbconvert_exporter": "python",
   "pygments_lexer": "ipython3",
   "version": "3.12.2"
  }
 },
 "nbformat": 4,
 "nbformat_minor": 2
}
